{
 "cells": [
  {
   "cell_type": "code",
   "execution_count": null,
   "id": "1e86fd51-8565-4aec-b75f-59728241feb1",
   "metadata": {},
   "outputs": [],
   "source": [
    "import sys\n",
    "sys.path.append('..')\n",
    "from tools.llm_completions import get_gpt_completion, get_llama3_completion, get_claude3_completion, get_mixtral_completion\n",
    "from tools.llm_prompting import llm_propose_features_get_prompt, llm_propose_features, llm_write_code_get_prompt, llm_write_code"
   ]
  },
  {
   "cell_type": "code",
   "execution_count": null,
   "id": "df808aee-0dab-418f-b6f4-616dd7c73573",
   "metadata": {},
   "outputs": [],
   "source": [
    "# The JSON is just a structured form of column descriptions in the Kaggle data description page.\n",
    "import json\n",
    "with open('../descriptions/avito.json') as f:\n",
    "    table_desc = json.load(f)"
   ]
  },
  {
   "cell_type": "code",
   "execution_count": null,
   "id": "11dd5544-4b8e-4b6e-a4d3-4ca963a56263",
   "metadata": {},
   "outputs": [],
   "source": [
    "from tools.evaluation import load_mock_data, load_metadata\n",
    "\n",
    "dataframes = load_mock_data('avito', load_metadata('../schemas/avito.yaml'))"
   ]
  },
  {
   "cell_type": "code",
   "execution_count": null,
   "id": "ac6761fd-bb1d-40eb-9af3-622978120a5d",
   "metadata": {},
   "outputs": [],
   "source": [
    "for table_name in list(table_desc.keys()):\n",
    "    if table_name not in dataframes:\n",
    "        print(f'{table_name} not found in schema, removing...')\n",
    "        del table_desc[table_name]\n",
    "    for col in list(table_desc[table_name].keys()):\n",
    "        if col not in dataframes[table_name].columns:\n",
    "            print(f'{table_name}.{col} not found in schema, removing...')\n",
    "            del table_desc[table_name][col]"
   ]
  },
  {
   "cell_type": "code",
   "execution_count": null,
   "id": "009c586b-898c-4bbc-88b1-1d928f1714a8",
   "metadata": {},
   "outputs": [],
   "source": [
    "sample_prompt = llm_propose_features_get_prompt(table_desc, \"SearchStream\", \"IsClick\")\n",
    "print(sample_prompt)"
   ]
  },
  {
   "cell_type": "code",
   "execution_count": null,
   "id": "add30cc8-1da7-4125-a1cd-8af4a7f880c6",
   "metadata": {},
   "outputs": [],
   "source": [
    "gpt_feature_descs = llm_propose_features(table_desc, \"SearchStream\", \"IsClick\", get_gpt_completion)"
   ]
  },
  {
   "cell_type": "code",
   "execution_count": null,
   "id": "d71c4a95-adf5-4bf7-a9e6-cd3ce3ae752e",
   "metadata": {},
   "outputs": [],
   "source": [
    "print(f'Prompt for feature {gpt_feature_descs[0]}')\n",
    "print(llm_write_code_get_prompt(table_desc, \"SearchStream\", \"IsClick\", gpt_feature_descs[0]))"
   ]
  },
  {
   "cell_type": "code",
   "execution_count": null,
   "id": "702092ee-e553-4153-9a62-7c504b2e09d0",
   "metadata": {},
   "outputs": [],
   "source": [
    "gpt_code_blocks = llm_write_code(dataframes, table_desc, \"SearchStream\", \"IsClick\", gpt_feature_descs, get_gpt_completion)"
   ]
  },
  {
   "cell_type": "code",
   "execution_count": null,
   "id": "f3939350-4032-4e70-a04f-a617b9adb45b",
   "metadata": {},
   "outputs": [],
   "source": [
    "from llm_executor import collect_new_features\n",
    "gpt_results = collect_new_features(dataframes, 'SearchStream', gpt_feature_descs, gpt_code_blocks)"
   ]
  },
  {
   "cell_type": "code",
   "execution_count": null,
   "id": "0f4f04e5-d61d-43b2-bbe2-64607e486169",
   "metadata": {},
   "outputs": [],
   "source": [
    "import pandas as pd\n",
    "gpt_code_df = pd.DataFrame({'feature_description': gpt_feature_descs, 'code': gpt_code_blocks})\n",
    "gpt_code_df.to_csv('../test_results/gpt.csv')"
   ]
  },
  {
   "cell_type": "code",
   "execution_count": null,
   "id": "2de9653d-220f-40a4-ad2e-1ebd599f02b3",
   "metadata": {},
   "outputs": [],
   "source": [
    "claude3_feature_descs = llm_propose_features(table_desc, \"SearchStream\", \"IsClick\", get_claude3_completion)\n",
    "claude3_code_blocks = llm_write_code(dataframes, table_desc, \"SearchStream\", \"IsClick\", claude3_feature_descs, get_claude3_completion)\n",
    "claude3_code_df = pd.DataFrame({'feature_description': claude3_feature_descs, 'code': claude3_code_blocks})\n",
    "claude3_code_df.to_csv('../test_results/claude3.csv')"
   ]
  },
  {
   "cell_type": "code",
   "execution_count": null,
   "id": "8a69149c-f8fb-4c82-b17f-d02b0dfff1fe",
   "metadata": {},
   "outputs": [],
   "source": [
    "llama3_feature_descs = llm_propose_features(table_desc, \"SearchStream\", \"IsClick\", get_llama3_completion)\n",
    "llama3_code_blocks = llm_write_code(dataframes, table_desc, \"SearchStream\", \"IsClick\", llama3_feature_descs, get_llama3_completion)\n",
    "llama3_code_df = pd.DataFrame({'feature_description': llama3_feature_descs, 'code': llama3_code_blocks})\n",
    "llama3_code_df.to_csv('../test_results/llama3.csv')"
   ]
  },
  {
   "cell_type": "code",
   "execution_count": null,
   "id": "6c0971a1-7a8f-4597-bbb2-3a62a640d4b8",
   "metadata": {},
   "outputs": [],
   "source": [
    "mixtral_feature_descs = llm_propose_features(table_desc, \"SearchStream\", \"IsClick\", get_mixtral_completion)\n",
    "mixtral_code_blocks = llm_write_code(dataframes, table_desc, \"SearchStream\", \"IsClick\", mixtral_feature_descs, get_mixtral_completion)\n"
   ]
  },
  {
   "cell_type": "code",
   "execution_count": null,
   "id": "56505f8a-7cd6-4354-94ef-53cb33aafe74",
   "metadata": {},
   "outputs": [],
   "source": [
    "mixtral_code_df = pd.DataFrame({'feature_description': mixtral_feature_descs, 'code': mixtral_code_blocks})\n",
    "mixtral_code_df.to_csv('../test_results/mixtral.csv')"
   ]
  },
  {
   "cell_type": "code",
   "execution_count": null,
   "id": "2e6c2630-163a-400b-b176-06df19842139",
   "metadata": {},
   "outputs": [],
   "source": []
  }
 ],
 "metadata": {
  "kernelspec": {
   "display_name": "Python 3 (ipykernel)",
   "language": "python",
   "name": "python3"
  },
  "language_info": {
   "codemirror_mode": {
    "name": "ipython",
    "version": 3
   },
   "file_extension": ".py",
   "mimetype": "text/x-python",
   "name": "python",
   "nbconvert_exporter": "python",
   "pygments_lexer": "ipython3",
   "version": "3.9.18"
  }
 },
 "nbformat": 4,
 "nbformat_minor": 5
}
